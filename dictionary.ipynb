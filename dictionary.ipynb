{
 "cells": [
  {
   "cell_type": "code",
   "execution_count": 3,
   "id": "166bcfd5",
   "metadata": {},
   "outputs": [
    {
     "name": "stdout",
     "output_type": "stream",
     "text": [
      "Enter the phone number: 55\n",
      "Sorry, the number is not found\n",
      "Sorry, the number is not found\n",
      "Sorry, the number is not found\n",
      "Sorry, the number is not found\n",
      "Sorry, the number is not found\n",
      "Sorry, the number is not found\n",
      "Sorry, the number is not found\n"
     ]
    }
   ],
   "source": [
    "phone_numbers = {\n",
    "        \"Amal\": 1111111111,\n",
    "        \"Mohammed\": 2222222222,\n",
    "        \"Khadijah\": 3333333333,\n",
    "        \"Abdullah\": 4444444444,\n",
    "        \"Rawan\": 5555555555,\n",
    "        \"Faisal\": 6666666666,\n",
    "        \"Layla\": 7777777777\n",
    "}\n",
    "\n",
    "\n",
    "phone_num = int(input('Enter the phone number: '))\n",
    "\n",
    "\n",
    "    \n",
    "for name, num in phone_numbers.items():\n",
    "    if phone_num < 10:\n",
    "        print('This is invalid number')\n",
    "    \n",
    "    \n",
    "    elif phone_num != num:\n",
    "        print('Sorry, the number is not found')\n",
    "    \n",
    "    \n",
    "    else:\n",
    "        print(name)\n",
    "    \n",
    "    "
   ]
  },
  {
   "cell_type": "code",
   "execution_count": null,
   "id": "7b206841",
   "metadata": {},
   "outputs": [],
   "source": []
  }
 ],
 "metadata": {
  "kernelspec": {
   "display_name": "Python 3",
   "language": "python",
   "name": "python3"
  },
  "language_info": {
   "codemirror_mode": {
    "name": "ipython",
    "version": 3
   },
   "file_extension": ".py",
   "mimetype": "text/x-python",
   "name": "python",
   "nbconvert_exporter": "python",
   "pygments_lexer": "ipython3",
   "version": "3.9.6"
  }
 },
 "nbformat": 4,
 "nbformat_minor": 5
}
